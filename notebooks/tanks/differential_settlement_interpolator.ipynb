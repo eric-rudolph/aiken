{
 "cells": [
  {
   "cell_type": "markdown",
   "source": [
    "# Differential Settlement Interpolator\n",
    "This program takes an input of the survey measurements `differential_settlement_measurements.csv` at survey radials of a tank, and the nodes `differential_settlement_nodes.csv` from an FEA model of the tank.  The program outputs the nodal displacement values for nodes in an FEA model.  The values are interpolated with a cubic function and placed into `differential_settlement_nodal_displacements.csv`."
   ],
   "metadata": {
    "collapsed": false
   },
   "id": "321e90844a0368f9"
  },
  {
   "cell_type": "code",
   "outputs": [],
   "source": [
    "import os\n",
    "import numpy as np\n",
    "import pandas as pd\n",
    "from matplotlib import pyplot as plt\n",
    "from scipy.interpolate import interp1d\n",
    "from helper import aiken_plot_defaults"
   ],
   "metadata": {
    "collapsed": false,
    "ExecuteTime": {
     "end_time": "2024-02-22T15:28:47.025170100Z",
     "start_time": "2024-02-22T15:28:45.735283900Z"
    }
   },
   "id": "c39870c0eb150e36",
   "execution_count": 1
  },
  {
   "cell_type": "markdown",
   "source": [
    "Import the data"
   ],
   "metadata": {
    "collapsed": false
   },
   "id": "6b0fb582090324d0"
  },
  {
   "cell_type": "code",
   "outputs": [],
   "source": [
    "measurements_path = \"data/differential_settlement_measurements.csv\"\n",
    "nodes_path = \"data/differential_settlement_nodes.csv\"\n",
    "head = os.path.split(os.path.split(os.getcwd())[0])[0]\n",
    "\n",
    "meaurements = pd.read_csv(os.path.join(head, measurements_path))\n",
    "nodes = pd.read_csv(os.path.join(head, nodes_path))"
   ],
   "metadata": {
    "collapsed": false,
    "ExecuteTime": {
     "end_time": "2024-02-22T15:28:47.035006400Z",
     "start_time": "2024-02-22T15:28:47.027175100Z"
    }
   },
   "id": "fa58774aa772e428",
   "execution_count": 2
  },
  {
   "cell_type": "code",
   "outputs": [
    {
     "data": {
      "text/plain": "   radial  angle  disp\n0       1      0  0.00\n1       2     45  0.00\n2       3     90  0.72\n3       4    135  1.92\n4       5    180  3.96\n5       6    225  5.16\n6       7    270  3.84\n7       8    315  1.92",
      "text/html": "<div>\n<style scoped>\n    .dataframe tbody tr th:only-of-type {\n        vertical-align: middle;\n    }\n\n    .dataframe tbody tr th {\n        vertical-align: top;\n    }\n\n    .dataframe thead th {\n        text-align: right;\n    }\n</style>\n<table border=\"1\" class=\"dataframe\">\n  <thead>\n    <tr style=\"text-align: right;\">\n      <th></th>\n      <th>radial</th>\n      <th>angle</th>\n      <th>disp</th>\n    </tr>\n  </thead>\n  <tbody>\n    <tr>\n      <th>0</th>\n      <td>1</td>\n      <td>0</td>\n      <td>0.00</td>\n    </tr>\n    <tr>\n      <th>1</th>\n      <td>2</td>\n      <td>45</td>\n      <td>0.00</td>\n    </tr>\n    <tr>\n      <th>2</th>\n      <td>3</td>\n      <td>90</td>\n      <td>0.72</td>\n    </tr>\n    <tr>\n      <th>3</th>\n      <td>4</td>\n      <td>135</td>\n      <td>1.92</td>\n    </tr>\n    <tr>\n      <th>4</th>\n      <td>5</td>\n      <td>180</td>\n      <td>3.96</td>\n    </tr>\n    <tr>\n      <th>5</th>\n      <td>6</td>\n      <td>225</td>\n      <td>5.16</td>\n    </tr>\n    <tr>\n      <th>6</th>\n      <td>7</td>\n      <td>270</td>\n      <td>3.84</td>\n    </tr>\n    <tr>\n      <th>7</th>\n      <td>8</td>\n      <td>315</td>\n      <td>1.92</td>\n    </tr>\n  </tbody>\n</table>\n</div>"
     },
     "execution_count": 3,
     "metadata": {},
     "output_type": "execute_result"
    }
   ],
   "source": [
    "meaurements"
   ],
   "metadata": {
    "collapsed": false,
    "ExecuteTime": {
     "end_time": "2024-02-22T15:28:47.058959400Z",
     "start_time": "2024-02-22T15:28:47.036006200Z"
    }
   },
   "id": "ecdc56f87cbf9251",
   "execution_count": 3
  },
  {
   "cell_type": "code",
   "outputs": [
    {
     "data": {
      "text/plain": "              NODE      R          aa       Angle      Z\ncount   128.000000  128.0  128.000000  128.000000  128.0\nmean   2469.445312  276.0    1.405844  181.405844    0.0\nstd    1642.137990    0.0  104.328106  104.328106    0.0\nmin       1.000000  276.0 -177.190000    2.810000    0.0\n25%     730.750000  276.0  -87.890250   92.109750    0.0\n50%    2158.500000  276.0    1.406250  181.406250    0.0\n75%    3586.250000  276.0   90.703250  270.703250    0.0\nmax    5015.000000  276.0  180.000000  360.000000    0.0",
      "text/html": "<div>\n<style scoped>\n    .dataframe tbody tr th:only-of-type {\n        vertical-align: middle;\n    }\n\n    .dataframe tbody tr th {\n        vertical-align: top;\n    }\n\n    .dataframe thead th {\n        text-align: right;\n    }\n</style>\n<table border=\"1\" class=\"dataframe\">\n  <thead>\n    <tr style=\"text-align: right;\">\n      <th></th>\n      <th>NODE</th>\n      <th>R</th>\n      <th>aa</th>\n      <th>Angle</th>\n      <th>Z</th>\n    </tr>\n  </thead>\n  <tbody>\n    <tr>\n      <th>count</th>\n      <td>128.000000</td>\n      <td>128.0</td>\n      <td>128.000000</td>\n      <td>128.000000</td>\n      <td>128.0</td>\n    </tr>\n    <tr>\n      <th>mean</th>\n      <td>2469.445312</td>\n      <td>276.0</td>\n      <td>1.405844</td>\n      <td>181.405844</td>\n      <td>0.0</td>\n    </tr>\n    <tr>\n      <th>std</th>\n      <td>1642.137990</td>\n      <td>0.0</td>\n      <td>104.328106</td>\n      <td>104.328106</td>\n      <td>0.0</td>\n    </tr>\n    <tr>\n      <th>min</th>\n      <td>1.000000</td>\n      <td>276.0</td>\n      <td>-177.190000</td>\n      <td>2.810000</td>\n      <td>0.0</td>\n    </tr>\n    <tr>\n      <th>25%</th>\n      <td>730.750000</td>\n      <td>276.0</td>\n      <td>-87.890250</td>\n      <td>92.109750</td>\n      <td>0.0</td>\n    </tr>\n    <tr>\n      <th>50%</th>\n      <td>2158.500000</td>\n      <td>276.0</td>\n      <td>1.406250</td>\n      <td>181.406250</td>\n      <td>0.0</td>\n    </tr>\n    <tr>\n      <th>75%</th>\n      <td>3586.250000</td>\n      <td>276.0</td>\n      <td>90.703250</td>\n      <td>270.703250</td>\n      <td>0.0</td>\n    </tr>\n    <tr>\n      <th>max</th>\n      <td>5015.000000</td>\n      <td>276.0</td>\n      <td>180.000000</td>\n      <td>360.000000</td>\n      <td>0.0</td>\n    </tr>\n  </tbody>\n</table>\n</div>"
     },
     "execution_count": 4,
     "metadata": {},
     "output_type": "execute_result"
    }
   ],
   "source": [
    "nodes.describe()"
   ],
   "metadata": {
    "collapsed": false,
    "ExecuteTime": {
     "end_time": "2024-02-22T15:28:47.080221300Z",
     "start_time": "2024-02-22T15:28:47.048046Z"
    }
   },
   "id": "f426bfa187df3122",
   "execution_count": 4
  },
  {
   "cell_type": "code",
   "outputs": [],
   "source": [
    "m_radials = meaurements[\"radial\"].to_numpy()\n",
    "m_angles = meaurements[\"angle\"].to_numpy()\n",
    "m_displacements = meaurements[\"disp\"].to_numpy()\n",
    "node_angles = nodes[\"Angle\"].to_numpy()"
   ],
   "metadata": {
    "collapsed": false,
    "ExecuteTime": {
     "end_time": "2024-02-22T15:28:47.102790600Z",
     "start_time": "2024-02-22T15:28:47.063958100Z"
    }
   },
   "id": "41d912795e75815",
   "execution_count": 5
  },
  {
   "cell_type": "markdown",
   "source": [
    "Add cycles to the measurement.  This has two effects:\n",
    "1. The cubic interpolation will be more smooth at the end points.\n",
    "2. The range of angles for the measurements will overlap the range of angles for the nodes."
   ],
   "metadata": {
    "collapsed": false
   },
   "id": "4b3ba8369916edf9"
  },
  {
   "cell_type": "code",
   "outputs": [],
   "source": [
    "m_angles = np.append(np.append(m_angles - 360, m_angles), m_angles + 360)\n",
    "m_displacements = np.append(np.append(m_displacements, m_displacements), m_displacements)\n"
   ],
   "metadata": {
    "collapsed": false,
    "ExecuteTime": {
     "end_time": "2024-02-22T15:28:47.127797300Z",
     "start_time": "2024-02-22T15:28:47.066475200Z"
    }
   },
   "id": "741be98ddce3cf7",
   "execution_count": 6
  },
  {
   "cell_type": "markdown",
   "source": [
    "Interpolate the data to develop nodal displacement"
   ],
   "metadata": {
    "collapsed": false
   },
   "id": "627ff89a1c1cdf07"
  },
  {
   "cell_type": "code",
   "outputs": [],
   "source": [
    "displacement_interpolation = interp1d(m_angles, m_displacements, kind='cubic')"
   ],
   "metadata": {
    "collapsed": false,
    "ExecuteTime": {
     "end_time": "2024-02-22T15:28:47.138838100Z",
     "start_time": "2024-02-22T15:28:47.076218100Z"
    }
   },
   "id": "4f42e12469c0dcf",
   "execution_count": 7
  },
  {
   "cell_type": "code",
   "outputs": [],
   "source": [
    "nodal_displacements = displacement_interpolation(node_angles)"
   ],
   "metadata": {
    "collapsed": false,
    "ExecuteTime": {
     "end_time": "2024-02-22T15:28:47.139835700Z",
     "start_time": "2024-02-22T15:28:47.086683100Z"
    }
   },
   "id": "9955293b60cfd302",
   "execution_count": 8
  },
  {
   "cell_type": "markdown",
   "source": [
    "Plot the data"
   ],
   "metadata": {
    "collapsed": false
   },
   "id": "c8e1366eedc7c64f"
  },
  {
   "cell_type": "code",
   "outputs": [],
   "source": [
    "title = \"Nodal Displacements for Differential Settlement\"\n",
    "x_label = \"Angle\"\n",
    "y_label = \"Displacement\""
   ],
   "metadata": {
    "collapsed": false,
    "ExecuteTime": {
     "end_time": "2024-02-22T15:28:47.139835700Z",
     "start_time": "2024-02-22T15:28:47.095999100Z"
    }
   },
   "id": "771dba1e4ae82af2",
   "execution_count": 9
  },
  {
   "cell_type": "code",
   "outputs": [
    {
     "data": {
      "text/plain": "<Figure size 800x400 with 1 Axes>",
      "image/png": "[encoded data removed]"
     },
     "metadata": {},
     "output_type": "display_data"
    }
   ],
   "source": [
    "fig, ax = plt.subplots(figsize=(8, 4))\n",
    "ax.plot(m_angles, m_displacements, 'o', label=\"Measured Settlement\")\n",
    "ax.plot(node_angles, nodal_displacements, '.', label=\"Nodal Displacements\")\n",
    "plt.xlim(min(node_angles), max(node_angles))\n",
    "plt.title(title)\n",
    "plt.xlabel(x_label)\n",
    "plt.ylabel(y_label)\n",
    "plt.legend()\n",
    "plt.show()"
   ],
   "metadata": {
    "collapsed": false,
    "ExecuteTime": {
     "end_time": "2024-02-22T15:28:47.435326200Z",
     "start_time": "2024-02-22T15:28:47.105803Z"
    }
   },
   "id": "dc5e90e21c47abe1",
   "execution_count": 10
  },
  {
   "cell_type": "markdown",
   "source": [
    "Output the nodal displacements to a file"
   ],
   "metadata": {
    "collapsed": false
   },
   "id": "88bc6326c4133e48"
  },
  {
   "cell_type": "code",
   "outputs": [],
   "source": [
    "node_disp_path = \"data/differential_settlement_node_disp.csv\"\n",
    "nodes.insert(2,'Disp', nodal_displacements)\n",
    "nodes.to_csv(os.path.join(head, node_disp_path), mode=\"w\", index=False, header=True)"
   ],
   "metadata": {
    "collapsed": false,
    "ExecuteTime": {
     "end_time": "2024-02-22T15:28:47.442828800Z",
     "start_time": "2024-02-22T15:28:47.434326Z"
    }
   },
   "id": "f7300a73588f9e6d",
   "execution_count": 11
  }
 ],
 "metadata": {
  "kernelspec": {
   "display_name": "Python 3",
   "language": "python",
   "name": "python3"
  },
  "language_info": {
   "codemirror_mode": {
    "name": "ipython",
    "version": 2
   },
   "file_extension": ".py",
   "mimetype": "text/x-python",
   "name": "python",
   "nbconvert_exporter": "python",
   "pygments_lexer": "ipython2",
   "version": "2.7.6"
  }
 },
 "nbformat": 4,
 "nbformat_minor": 5
}
