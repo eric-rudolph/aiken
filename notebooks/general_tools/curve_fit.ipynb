{
 "cells": [
  {
   "cell_type": "markdown",
   "source": [
    "# Curve Fit\n",
    "This program is a generic curve-fitting program.<br><br>\n",
    "The program can be modified by editing the `curve_fit_function()`"
   ],
   "metadata": {
    "collapsed": false
   },
   "id": "cd07d5b9b896b439"
  },
  {
   "cell_type": "code",
   "outputs": [],
   "source": [
    "import os\n",
    "import numpy as np\n",
    "import pandas as pd\n",
    "import matplotlib.pyplot as plt\n",
    "from scipy.optimize import curve_fit\n",
    "from helper import aiken_plot_defaults"
   ],
   "metadata": {
    "collapsed": false,
    "ExecuteTime": {
     "end_time": "2024-02-22T11:28:30.706109Z",
     "start_time": "2024-02-22T11:28:30.695045200Z"
    }
   },
   "id": "c66924a2926ebe5c",
   "execution_count": 24
  },
  {
   "cell_type": "markdown",
   "source": [
    "Import the data"
   ],
   "metadata": {
    "collapsed": false
   },
   "id": "dbbde5c287fcb748"
  },
  {
   "cell_type": "code",
   "outputs": [],
   "source": [
    "data_path = \"data/curve_fit_data.csv\"\n",
    "head = os.path.split(os.path.split(os.getcwd())[0])[0]\n",
    "data = pd.read_csv(os.path.join(head,data_path))"
   ],
   "metadata": {
    "collapsed": false,
    "ExecuteTime": {
     "end_time": "2024-02-22T11:28:32.157927Z",
     "start_time": "2024-02-22T11:28:32.142636400Z"
    }
   },
   "id": "a99fa923f274e988",
   "execution_count": 25
  },
  {
   "cell_type": "code",
   "outputs": [],
   "source": [
    "x_data = np.array(data[\"x\"])\n",
    "y_data = np.array(data[\"y\"])"
   ],
   "metadata": {
    "collapsed": false,
    "ExecuteTime": {
     "end_time": "2024-02-22T11:28:32.382763700Z",
     "start_time": "2024-02-22T11:28:32.368333500Z"
    }
   },
   "id": "caebf5c20e6810a5",
   "execution_count": 26
  },
  {
   "cell_type": "markdown",
   "source": [
    "Define a generic function to curve fit to "
   ],
   "metadata": {
    "collapsed": false
   },
   "id": "a9efd386f288aa6"
  },
  {
   "cell_type": "code",
   "outputs": [],
   "source": [
    "def curve_fit_function(x, a, b, c):\n",
    "    return a * x ** 2 + b * x + c"
   ],
   "metadata": {
    "collapsed": false,
    "ExecuteTime": {
     "end_time": "2024-02-22T11:28:32.979431500Z",
     "start_time": "2024-02-22T11:28:32.960517900Z"
    }
   },
   "id": "55d81aed92a6fb56",
   "execution_count": 27
  },
  {
   "cell_type": "markdown",
   "source": [
    "Perform the curve fit"
   ],
   "metadata": {
    "collapsed": false
   },
   "id": "4a4ce8ad3072a9cc"
  },
  {
   "cell_type": "code",
   "outputs": [],
   "source": [
    "popt, pcov = curve_fit(curve_fit_function, x_data, y_data, [1, 1, 1])\n",
    "a, b, c = popt"
   ],
   "metadata": {
    "collapsed": false,
    "ExecuteTime": {
     "end_time": "2024-02-22T11:28:33.290765200Z",
     "start_time": "2024-02-22T11:28:33.278752400Z"
    }
   },
   "id": "1eb6cce32beb2f5e",
   "execution_count": 28
  },
  {
   "cell_type": "markdown",
   "source": [
    "Develop text string for the curve fit equation and other attributes"
   ],
   "metadata": {
    "collapsed": false
   },
   "id": "62a85983fca0fb11"
  },
  {
   "cell_type": "code",
   "outputs": [],
   "source": [
    "equation = f\"${a:.3f}x^2 + {b:.3f}x + {c:.3f}$\"\n",
    "title = \"Curve Fit with the Data\"\n",
    "x_label = \"x-axis\"\n",
    "y_label = \"y-axis\""
   ],
   "metadata": {
    "collapsed": false,
    "ExecuteTime": {
     "end_time": "2024-02-22T11:28:33.631204800Z",
     "start_time": "2024-02-22T11:28:33.614908300Z"
    }
   },
   "id": "a6f50df78166cc1",
   "execution_count": 29
  },
  {
   "cell_type": "markdown",
   "source": [
    "Plot the data and the curve"
   ],
   "metadata": {
    "collapsed": false
   },
   "id": "b2c6fe9ca2ea8479"
  },
  {
   "cell_type": "code",
   "outputs": [
    {
     "data": {
      "text/plain": "<Figure size 600x400 with 1 Axes>",
      "image/png": "[encoded data removed]"
     },
     "metadata": {},
     "output_type": "display_data"
    }
   ],
   "source": [
    "curve_x = np.linspace(x_data.min(), x_data.max(), 100)\n",
    "curve_y = curve_fit_function(curve_x, a, b, c)\n",
    "\n",
    "fig, ax = plt.subplots(figsize=(6, 4))\n",
    "ax.plot(x_data, y_data, 'o', label='data')\n",
    "ax.plot(curve_x, curve_y, '--', label='fit')\n",
    "plt.title(title)\n",
    "plt.xlabel(x_label)\n",
    "plt.ylabel(y_label)\n",
    "plt.text(0.1, 0.85, equation, transform=ax.transAxes)\n",
    "plt.show()"
   ],
   "metadata": {
    "collapsed": false,
    "ExecuteTime": {
     "end_time": "2024-02-22T11:28:35.035130100Z",
     "start_time": "2024-02-22T11:28:34.659399300Z"
    }
   },
   "id": "fdd09806a954ef96",
   "execution_count": 30
  },
  {
   "cell_type": "code",
   "outputs": [],
   "source": [],
   "metadata": {
    "collapsed": false,
    "ExecuteTime": {
     "end_time": "2024-02-22T11:28:09.243537700Z",
     "start_time": "2024-02-22T11:28:09.235527600Z"
    }
   },
   "id": "e9fc61d023581585",
   "execution_count": 23
  }
 ],
 "metadata": {
  "kernelspec": {
   "display_name": "Python 3",
   "language": "python",
   "name": "python3"
  },
  "language_info": {
   "codemirror_mode": {
    "name": "ipython",
    "version": 2
   },
   "file_extension": ".py",
   "mimetype": "text/x-python",
   "name": "python",
   "nbconvert_exporter": "python",
   "pygments_lexer": "ipython2",
   "version": "2.7.6"
  }
 },
 "nbformat": 4,
 "nbformat_minor": 5
}
