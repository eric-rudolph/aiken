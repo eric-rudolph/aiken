{
 "cells": [
  {
   "cell_type": "markdown",
   "source": [
    "# Effect of Large Deflection, Diaphragm Stresses\n",
    "(ref. Roark's, 7th Edition, Sec. 11.11)"
   ],
   "metadata": {
    "collapsed": false
   },
   "id": "3aec0f3ff34865a5"
  },
  {
   "cell_type": "markdown",
   "source": [
    "When deflection becomes larger than about one-half the thickness, the middle surface becomes appreciable strained and the stress cannot be ignored.  This stress ic called *diaphragm stress*, enables the plate to carry part of the load as a diaphragm load in tension.  This tension may be balanced by radial tension at the edges if the edges are *held* or by circumferential compression is the edges are not restrained.  This circumferential compression may cause buckling."
   ],
   "metadata": {
    "collapsed": false
   },
   "id": "bb527f2973664288"
  },
  {
   "cell_type": "markdown",
   "source": [
    "Let $t=$thickness or plate; $a=$outer radius of plate; $q=$unit lateral pressure; $y=$maximum deflection; $\\sigma_b=$bending stress; $\\sigma_d=$diaphragm stress; $\\sigma=\\sigma_b+\\sigma_d=$maximum stress due to flexure and diaphragm tension combined.  Then: \n",
    "$$ \\frac{qa^4}{Et^4}=K_1\\frac{y}{t}+K_2\\left( \\frac{y}{t} \\right)^3$$\n",
    "$$ \\frac{\\sigma a^2}{Et^2}=K_3\\frac{y}{t}+K_4\\left(\\frac{y}{t}\\right)^2 $$\n",
    "So, first solve for $y$, then obtain the stresses"
   ],
   "metadata": {
    "collapsed": false
   },
   "id": "c20dda88269dfb7c"
  },
  {
   "cell_type": "markdown",
   "source": [
    "## Circular plates under distributed load producing large deflections"
   ],
   "metadata": {
    "collapsed": false
   },
   "id": "4df8eac59940151"
  },
  {
   "cell_type": "markdown",
   "source": [
    "### Case 1: Simply Supported (neither fixed nor held). Uniform pressure $q$ over entire plate"
   ],
   "metadata": {
    "collapsed": false
   },
   "id": "a23bdae435cdbb5"
  },
  {
   "cell_type": "markdown",
   "source": [
    "$K_1=\\frac{1.016}{1-\\nu}$<br>\n",
    "$K_2=0.376$<br>\n",
    "(At center) $K_3=\\frac{2}{1-\\nu}$, $K_4=0.50$<br>\n",
    "(At edge) $K_3=\\frac{1.238}{1-\\nu}$, $K_4=0.294$"
   ],
   "metadata": {
    "collapsed": false
   },
   "id": "b81abbc5384a8574"
  },
  {
   "cell_type": "markdown",
   "source": [
    "### Case 2: Fixed but not held (no edge tension). Uniform pressure $q$ over entire plate"
   ],
   "metadata": {
    "collapsed": false
   },
   "id": "499709a2efea2ea2"
  },
  {
   "cell_type": "markdown",
   "source": [
    "$K_1=\\frac{5.33}{1-\\nu^2}$<br>\n",
    "$K_2=0.857$<br>\n",
    "(at center), $K_3=\\frac{2}{1-\\nu^2}$, $K_4=0.50$<br>\n",
    "(at edge), $K_3=\\frac{4}{1-\\nu^2}$, $ K_4=0.0 $"
   ],
   "metadata": {
    "collapsed": false
   },
   "id": "7b2e8c687aed2dac"
  },
  {
   "cell_type": "markdown",
   "source": [
    "### Case 3: Fixed and held. Uniform pressure $q$ over entire plate."
   ],
   "metadata": {
    "collapsed": false
   },
   "id": "f847fed91b2ef673"
  },
  {
   "cell_type": "markdown",
   "source": [
    "$K_1=\\frac{5.33}{1-\\nu^2}$<br>\n",
    "$K_2=\\frac{2.6}{1-\\nu^2}$<br>\n",
    "(at center), $K_3=\\frac{2}{1-\\nu}$, $K_4=0.976$<br>\n",
    "(at edge), $K_3=\\frac{4}{1-\\nu^2}$, $ K_4=1.73 $"
   ],
   "metadata": {
    "collapsed": false
   },
   "id": "9833430441b4446"
  },
  {
   "cell_type": "code",
   "outputs": [],
   "source": [
    "# TODO # Implement Case 4\n",
    "# TODO # Implement Case 5\n",
    "# TODO # Implement Case 6\n",
    "# TODO # Implement Case 7\n",
    "# TODO # Implement Case 8\n",
    "# TODO # Implement Case 9"
   ],
   "metadata": {
    "collapsed": false,
    "ExecuteTime": {
     "end_time": "2024-02-23T19:56:20.463812400Z",
     "start_time": "2024-02-23T19:56:20.460298600Z"
    }
   },
   "id": "3d51fed512d46f68",
   "execution_count": 6
  },
  {
   "cell_type": "code",
   "outputs": [],
   "source": [
    "import diaphragm\n",
    "\n",
    "v=0.3\n",
    "E=29e6\n",
    "a=300\n",
    "t=.25\n",
    "q=.25\n",
    "case=3\n"
   ],
   "metadata": {
    "collapsed": false,
    "ExecuteTime": {
     "end_time": "2024-02-23T19:53:08.593090200Z",
     "start_time": "2024-02-23T19:53:08.589557100Z"
    }
   },
   "id": "150b770e0b3d5254",
   "execution_count": 4
  },
  {
   "cell_type": "code",
   "outputs": [
    {
     "data": {
      "text/plain": "{'deflection': 4.597376919318563,\n 'stress_center': 7705.124133051007,\n 'stress_edge': 13409.962661089}"
     },
     "execution_count": 5,
     "metadata": {},
     "output_type": "execute_result"
    }
   ],
   "source": [
    "diaphragm.diaphragm_stresses(thickness=t, outer_radius=a, pressure=q, elastic_modulus=E, poissons_ratio=v, case_no=3)"
   ],
   "metadata": {
    "collapsed": false,
    "ExecuteTime": {
     "end_time": "2024-02-23T19:53:09.565324300Z",
     "start_time": "2024-02-23T19:53:09.547322500Z"
    }
   },
   "id": "ca9d562547a73915",
   "execution_count": 5
  },
  {
   "cell_type": "code",
   "outputs": [],
   "source": [],
   "metadata": {
    "collapsed": false
   },
   "id": "d4dba64d95c8749d"
  }
 ],
 "metadata": {
  "kernelspec": {
   "display_name": "Python 3",
   "language": "python",
   "name": "python3"
  },
  "language_info": {
   "codemirror_mode": {
    "name": "ipython",
    "version": 2
   },
   "file_extension": ".py",
   "mimetype": "text/x-python",
   "name": "python",
   "nbconvert_exporter": "python",
   "pygments_lexer": "ipython2",
   "version": "2.7.6"
  }
 },
 "nbformat": 4,
 "nbformat_minor": 5
}
